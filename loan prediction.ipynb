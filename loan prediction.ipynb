{
 "cells": [
  {
   "cell_type": "code",
   "execution_count": 1,
   "metadata": {
    "collapsed": true
   },
   "outputs": [],
   "source": [
    "import numpy as np\n",
    "import pandas as pd\n",
    "import matplotlib.pyplot as plt\n",
    "import seaborn as sn\n",
    "import scipy.stats as stat\n",
    "from sklearn import model_selection\n",
    "from scipy import stats\n",
    "import pandas.plotting"
   ]
  },
  {
   "cell_type": "code",
   "execution_count": 2,
   "metadata": {
    "collapsed": true
   },
   "outputs": [],
   "source": [
    "test=pd.read_csv('C:/Users/user/Desktop/DS.Ebin/AV_Training/loan_prediction/test.csv')\n",
    "train=pd.read_csv('C:/Users/user/Desktop/DS.Ebin/AV_Training/loan_prediction/train.csv')"
   ]
  },
  {
   "cell_type": "code",
   "execution_count": 3,
   "metadata": {},
   "outputs": [
    {
     "name": "stdout",
     "output_type": "stream",
     "text": [
      "<class 'pandas.core.frame.DataFrame'>\n",
      "RangeIndex: 367 entries, 0 to 366\n",
      "Data columns (total 12 columns):\n",
      "Loan_ID              367 non-null object\n",
      "Gender               356 non-null object\n",
      "Married              367 non-null object\n",
      "Dependents           357 non-null object\n",
      "Education            367 non-null object\n",
      "Self_Employed        344 non-null object\n",
      "ApplicantIncome      367 non-null int64\n",
      "CoapplicantIncome    367 non-null int64\n",
      "LoanAmount           362 non-null float64\n",
      "Loan_Amount_Term     361 non-null float64\n",
      "Credit_History       338 non-null float64\n",
      "Property_Area        367 non-null object\n",
      "dtypes: float64(3), int64(2), object(7)\n",
      "memory usage: 34.5+ KB\n"
     ]
    }
   ],
   "source": [
    "test.head()\n",
    "test.info()"
   ]
  },
  {
   "cell_type": "code",
   "execution_count": 4,
   "metadata": {},
   "outputs": [
    {
     "name": "stdout",
     "output_type": "stream",
     "text": [
      "<class 'pandas.core.frame.DataFrame'>\n",
      "RangeIndex: 614 entries, 0 to 613\n",
      "Data columns (total 13 columns):\n",
      "Loan_ID              614 non-null object\n",
      "Gender               601 non-null object\n",
      "Married              611 non-null object\n",
      "Dependents           599 non-null object\n",
      "Education            614 non-null object\n",
      "Self_Employed        582 non-null object\n",
      "ApplicantIncome      614 non-null int64\n",
      "CoapplicantIncome    614 non-null float64\n",
      "LoanAmount           592 non-null float64\n",
      "Loan_Amount_Term     600 non-null float64\n",
      "Credit_History       564 non-null float64\n",
      "Property_Area        614 non-null object\n",
      "Loan_Status          614 non-null object\n",
      "dtypes: float64(4), int64(1), object(8)\n",
      "memory usage: 62.4+ KB\n"
     ]
    }
   ],
   "source": [
    "train.head()\n",
    "train.info()"
   ]
  },
  {
   "cell_type": "code",
   "execution_count": 5,
   "metadata": {
    "collapsed": true
   },
   "outputs": [],
   "source": [
    "train['source']='train'\n",
    "test['source']='test'"
   ]
  },
  {
   "cell_type": "code",
   "execution_count": 6,
   "metadata": {
    "collapsed": true
   },
   "outputs": [],
   "source": [
    "data=pd.concat([train,test])"
   ]
  },
  {
   "cell_type": "code",
   "execution_count": 7,
   "metadata": {},
   "outputs": [
    {
     "name": "stdout",
     "output_type": "stream",
     "text": [
      "<class 'pandas.core.frame.DataFrame'>\n",
      "Int64Index: 981 entries, 0 to 366\n",
      "Data columns (total 14 columns):\n",
      "ApplicantIncome      981 non-null int64\n",
      "CoapplicantIncome    981 non-null float64\n",
      "Credit_History       902 non-null float64\n",
      "Dependents           956 non-null object\n",
      "Education            981 non-null object\n",
      "Gender               957 non-null object\n",
      "LoanAmount           954 non-null float64\n",
      "Loan_Amount_Term     961 non-null float64\n",
      "Loan_ID              981 non-null object\n",
      "Loan_Status          614 non-null object\n",
      "Married              978 non-null object\n",
      "Property_Area        981 non-null object\n",
      "Self_Employed        926 non-null object\n",
      "source               981 non-null object\n",
      "dtypes: float64(4), int64(1), object(9)\n",
      "memory usage: 115.0+ KB\n"
     ]
    }
   ],
   "source": [
    "data.info()"
   ]
  },
  {
   "cell_type": "code",
   "execution_count": 8,
   "metadata": {
    "scrolled": false
   },
   "outputs": [
    {
     "data": {
      "text/html": [
       "<div>\n",
       "<style>\n",
       "    .dataframe thead tr:only-child th {\n",
       "        text-align: right;\n",
       "    }\n",
       "\n",
       "    .dataframe thead th {\n",
       "        text-align: left;\n",
       "    }\n",
       "\n",
       "    .dataframe tbody tr th {\n",
       "        vertical-align: top;\n",
       "    }\n",
       "</style>\n",
       "<table border=\"1\" class=\"dataframe\">\n",
       "  <thead>\n",
       "    <tr style=\"text-align: right;\">\n",
       "      <th></th>\n",
       "      <th>ApplicantIncome</th>\n",
       "      <th>CoapplicantIncome</th>\n",
       "      <th>Credit_History</th>\n",
       "      <th>Dependents</th>\n",
       "      <th>Education</th>\n",
       "      <th>Gender</th>\n",
       "      <th>LoanAmount</th>\n",
       "      <th>Loan_Amount_Term</th>\n",
       "      <th>Loan_ID</th>\n",
       "      <th>Loan_Status</th>\n",
       "      <th>Married</th>\n",
       "      <th>Property_Area</th>\n",
       "      <th>Self_Employed</th>\n",
       "      <th>source</th>\n",
       "    </tr>\n",
       "  </thead>\n",
       "  <tbody>\n",
       "    <tr>\n",
       "      <th>0</th>\n",
       "      <td>5849</td>\n",
       "      <td>0.0</td>\n",
       "      <td>1.0</td>\n",
       "      <td>0</td>\n",
       "      <td>Graduate</td>\n",
       "      <td>Male</td>\n",
       "      <td>NaN</td>\n",
       "      <td>360.0</td>\n",
       "      <td>LP001002</td>\n",
       "      <td>Y</td>\n",
       "      <td>No</td>\n",
       "      <td>Urban</td>\n",
       "      <td>No</td>\n",
       "      <td>train</td>\n",
       "    </tr>\n",
       "    <tr>\n",
       "      <th>1</th>\n",
       "      <td>4583</td>\n",
       "      <td>1508.0</td>\n",
       "      <td>1.0</td>\n",
       "      <td>1</td>\n",
       "      <td>Graduate</td>\n",
       "      <td>Male</td>\n",
       "      <td>128.0</td>\n",
       "      <td>360.0</td>\n",
       "      <td>LP001003</td>\n",
       "      <td>N</td>\n",
       "      <td>Yes</td>\n",
       "      <td>Rural</td>\n",
       "      <td>No</td>\n",
       "      <td>train</td>\n",
       "    </tr>\n",
       "    <tr>\n",
       "      <th>2</th>\n",
       "      <td>3000</td>\n",
       "      <td>0.0</td>\n",
       "      <td>1.0</td>\n",
       "      <td>0</td>\n",
       "      <td>Graduate</td>\n",
       "      <td>Male</td>\n",
       "      <td>66.0</td>\n",
       "      <td>360.0</td>\n",
       "      <td>LP001005</td>\n",
       "      <td>Y</td>\n",
       "      <td>Yes</td>\n",
       "      <td>Urban</td>\n",
       "      <td>Yes</td>\n",
       "      <td>train</td>\n",
       "    </tr>\n",
       "    <tr>\n",
       "      <th>3</th>\n",
       "      <td>2583</td>\n",
       "      <td>2358.0</td>\n",
       "      <td>1.0</td>\n",
       "      <td>0</td>\n",
       "      <td>Not Graduate</td>\n",
       "      <td>Male</td>\n",
       "      <td>120.0</td>\n",
       "      <td>360.0</td>\n",
       "      <td>LP001006</td>\n",
       "      <td>Y</td>\n",
       "      <td>Yes</td>\n",
       "      <td>Urban</td>\n",
       "      <td>No</td>\n",
       "      <td>train</td>\n",
       "    </tr>\n",
       "    <tr>\n",
       "      <th>4</th>\n",
       "      <td>6000</td>\n",
       "      <td>0.0</td>\n",
       "      <td>1.0</td>\n",
       "      <td>0</td>\n",
       "      <td>Graduate</td>\n",
       "      <td>Male</td>\n",
       "      <td>141.0</td>\n",
       "      <td>360.0</td>\n",
       "      <td>LP001008</td>\n",
       "      <td>Y</td>\n",
       "      <td>No</td>\n",
       "      <td>Urban</td>\n",
       "      <td>No</td>\n",
       "      <td>train</td>\n",
       "    </tr>\n",
       "  </tbody>\n",
       "</table>\n",
       "</div>"
      ],
      "text/plain": [
       "   ApplicantIncome  CoapplicantIncome  Credit_History Dependents  \\\n",
       "0             5849                0.0             1.0          0   \n",
       "1             4583             1508.0             1.0          1   \n",
       "2             3000                0.0             1.0          0   \n",
       "3             2583             2358.0             1.0          0   \n",
       "4             6000                0.0             1.0          0   \n",
       "\n",
       "      Education Gender  LoanAmount  Loan_Amount_Term   Loan_ID Loan_Status  \\\n",
       "0      Graduate   Male         NaN             360.0  LP001002           Y   \n",
       "1      Graduate   Male       128.0             360.0  LP001003           N   \n",
       "2      Graduate   Male        66.0             360.0  LP001005           Y   \n",
       "3  Not Graduate   Male       120.0             360.0  LP001006           Y   \n",
       "4      Graduate   Male       141.0             360.0  LP001008           Y   \n",
       "\n",
       "  Married Property_Area Self_Employed source  \n",
       "0      No         Urban            No  train  \n",
       "1     Yes         Rural            No  train  \n",
       "2     Yes         Urban           Yes  train  \n",
       "3     Yes         Urban            No  train  \n",
       "4      No         Urban            No  train  "
      ]
     },
     "execution_count": 8,
     "metadata": {},
     "output_type": "execute_result"
    }
   ],
   "source": [
    "data.head()"
   ]
  },
  {
   "cell_type": "code",
   "execution_count": 9,
   "metadata": {},
   "outputs": [
    {
     "data": {
      "image/png": "[encoded data removed]",
      "text/plain": [
       "<matplotlib.figure.Figure at 0x20084922e80>"
      ]
     },
     "metadata": {},
     "output_type": "display_data"
    }
   ],
   "source": [
    "sn.distplot(data['ApplicantIncome'])\n",
    "plt.show()"
   ]
  },
  {
   "cell_type": "code",
   "execution_count": 10,
   "metadata": {},
   "outputs": [
    {
     "data": {
      "image/png": "[encoded data removed]",
      "text/plain": [
       "<matplotlib.figure.Figure at 0x20084ad9b00>"
      ]
     },
     "metadata": {},
     "output_type": "display_data"
    }
   ],
   "source": [
    "sn.boxplot(data['ApplicantIncome'])\n",
    "plt.show()"
   ]
  },
  {
   "cell_type": "code",
   "execution_count": 11,
   "metadata": {},
   "outputs": [
    {
     "data": {
      "image/png": "[encoded data removed]",
      "text/plain": [
       "<matplotlib.figure.Figure at 0x20084b3e860>"
      ]
     },
     "metadata": {},
     "output_type": "display_data"
    }
   ],
   "source": [
    "sn.distplot(data['CoapplicantIncome'])\n",
    "plt.show()"
   ]
  },
  {
   "cell_type": "code",
   "execution_count": 12,
   "metadata": {},
   "outputs": [
    {
     "data": {
      "image/png": "[encoded data removed]",
      "text/plain": [
       "<matplotlib.figure.Figure at 0x20084d57ba8>"
      ]
     },
     "metadata": {},
     "output_type": "display_data"
    }
   ],
   "source": [
    "sn.boxplot(data['CoapplicantIncome'])\n",
    "plt.show()"
   ]
  },
  {
   "cell_type": "code",
   "execution_count": 13,
   "metadata": {
    "collapsed": true
   },
   "outputs": [],
   "source": [
    "data['Income']=np.log10(data['ApplicantIncome']+data['CoapplicantIncome'])"
   ]
  },
  {
   "cell_type": "code",
   "execution_count": 14,
   "metadata": {
    "collapsed": true
   },
   "outputs": [],
   "source": [
    "data.drop(['ApplicantIncome','CoapplicantIncome'],axis=1,inplace=True)"
   ]
  },
  {
   "cell_type": "code",
   "execution_count": 15,
   "metadata": {},
   "outputs": [
    {
     "data": {
      "image/png": "[encoded data removed]",
      "text/plain": [
       "<matplotlib.figure.Figure at 0x200849080f0>"
      ]
     },
     "metadata": {},
     "output_type": "display_data"
    }
   ],
   "source": [
    "sn.distplot(data['Income'])\n",
    "plt.show()"
   ]
  },
  {
   "cell_type": "code",
   "execution_count": 16,
   "metadata": {},
   "outputs": [
    {
     "data": {
      "image/png": "[encoded data removed]",
      "text/plain": [
       "<matplotlib.figure.Figure at 0x20084922c88>"
      ]
     },
     "metadata": {},
     "output_type": "display_data"
    }
   ],
   "source": [
    "sn.boxplot(data['Income'])\n",
    "plt.show()"
   ]
  },
  {
   "cell_type": "code",
   "execution_count": 17,
   "metadata": {},
   "outputs": [
    {
     "data": {
      "image/png": "[encoded data removed]",
      "text/plain": [
       "<matplotlib.figure.Figure at 0x20084bcf208>"
      ]
     },
     "metadata": {},
     "output_type": "display_data"
    }
   ],
   "source": [
    "sn.heatmap(data[['Income','LoanAmount']].corr(),annot=True)\n",
    "plt.show()"
   ]
  },
  {
   "cell_type": "code",
   "execution_count": 18,
   "metadata": {},
   "outputs": [
    {
     "data": {
      "image/png": "[encoded data removed]",
      "text/plain": [
       "<matplotlib.figure.Figure at 0x20084bcf080>"
      ]
     },
     "metadata": {},
     "output_type": "display_data"
    }
   ],
   "source": [
    "sn.regplot(data['Income'],data['LoanAmount'])\n",
    "plt.show()"
   ]
  },
  {
   "cell_type": "code",
   "execution_count": 19,
   "metadata": {
    "collapsed": true
   },
   "outputs": [],
   "source": [
    "data['Loan_Status']=data['Loan_Status'].map({'Y':1,'N':0})\n"
   ]
  },
  {
   "cell_type": "code",
   "execution_count": 20,
   "metadata": {},
   "outputs": [
    {
     "data": {
      "text/html": [
       "<div>\n",
       "<style>\n",
       "    .dataframe thead tr:only-child th {\n",
       "        text-align: right;\n",
       "    }\n",
       "\n",
       "    .dataframe thead th {\n",
       "        text-align: left;\n",
       "    }\n",
       "\n",
       "    .dataframe tbody tr th {\n",
       "        vertical-align: top;\n",
       "    }\n",
       "</style>\n",
       "<table border=\"1\" class=\"dataframe\">\n",
       "  <thead>\n",
       "    <tr style=\"text-align: right;\">\n",
       "      <th></th>\n",
       "      <th>Credit_History</th>\n",
       "      <th>LoanAmount</th>\n",
       "      <th>Loan_Amount_Term</th>\n",
       "      <th>Loan_Status</th>\n",
       "      <th>Income</th>\n",
       "    </tr>\n",
       "  </thead>\n",
       "  <tbody>\n",
       "    <tr>\n",
       "      <th>Credit_History</th>\n",
       "      <td>1.000000</td>\n",
       "      <td>-0.008235</td>\n",
       "      <td>-0.020439</td>\n",
       "      <td>0.561678</td>\n",
       "      <td>0.039500</td>\n",
       "    </tr>\n",
       "    <tr>\n",
       "      <th>LoanAmount</th>\n",
       "      <td>-0.008235</td>\n",
       "      <td>1.000000</td>\n",
       "      <td>0.055636</td>\n",
       "      <td>-0.037318</td>\n",
       "      <td>0.676003</td>\n",
       "    </tr>\n",
       "    <tr>\n",
       "      <th>Loan_Amount_Term</th>\n",
       "      <td>-0.020439</td>\n",
       "      <td>0.055636</td>\n",
       "      <td>1.000000</td>\n",
       "      <td>-0.021268</td>\n",
       "      <td>-0.036563</td>\n",
       "    </tr>\n",
       "    <tr>\n",
       "      <th>Loan_Status</th>\n",
       "      <td>0.561678</td>\n",
       "      <td>-0.037318</td>\n",
       "      <td>-0.021268</td>\n",
       "      <td>1.000000</td>\n",
       "      <td>0.007240</td>\n",
       "    </tr>\n",
       "    <tr>\n",
       "      <th>Income</th>\n",
       "      <td>0.039500</td>\n",
       "      <td>0.676003</td>\n",
       "      <td>-0.036563</td>\n",
       "      <td>0.007240</td>\n",
       "      <td>1.000000</td>\n",
       "    </tr>\n",
       "  </tbody>\n",
       "</table>\n",
       "</div>"
      ],
      "text/plain": [
       "                  Credit_History  LoanAmount  Loan_Amount_Term  Loan_Status  \\\n",
       "Credit_History          1.000000   -0.008235         -0.020439     0.561678   \n",
       "LoanAmount             -0.008235    1.000000          0.055636    -0.037318   \n",
       "Loan_Amount_Term       -0.020439    0.055636          1.000000    -0.021268   \n",
       "Loan_Status             0.561678   -0.037318         -0.021268     1.000000   \n",
       "Income                  0.039500    0.676003         -0.036563     0.007240   \n",
       "\n",
       "                    Income  \n",
       "Credit_History    0.039500  \n",
       "LoanAmount        0.676003  \n",
       "Loan_Amount_Term -0.036563  \n",
       "Loan_Status       0.007240  \n",
       "Income            1.000000  "
      ]
     },
     "execution_count": 20,
     "metadata": {},
     "output_type": "execute_result"
    }
   ],
   "source": [
    "data.corr()"
   ]
  },
  {
   "cell_type": "code",
   "execution_count": 21,
   "metadata": {},
   "outputs": [
    {
     "name": "stdout",
     "output_type": "stream",
     "text": [
      "<class 'pandas.core.frame.DataFrame'>\n",
      "Int64Index: 981 entries, 0 to 366\n",
      "Data columns (total 13 columns):\n",
      "Credit_History      902 non-null float64\n",
      "Dependents          956 non-null object\n",
      "Education           981 non-null object\n",
      "Gender              957 non-null object\n",
      "LoanAmount          954 non-null float64\n",
      "Loan_Amount_Term    961 non-null float64\n",
      "Loan_ID             981 non-null object\n",
      "Loan_Status         614 non-null float64\n",
      "Married             978 non-null object\n",
      "Property_Area       981 non-null object\n",
      "Self_Employed       926 non-null object\n",
      "source              981 non-null object\n",
      "Income              981 non-null float64\n",
      "dtypes: float64(5), object(8)\n",
      "memory usage: 107.3+ KB\n"
     ]
    }
   ],
   "source": [
    "data.info()"
   ]
  },
  {
   "cell_type": "code",
   "execution_count": 22,
   "metadata": {
    "collapsed": true
   },
   "outputs": [],
   "source": [
    "import missingno as msn"
   ]
  },
  {
   "cell_type": "code",
   "execution_count": 23,
   "metadata": {
    "scrolled": false
   },
   "outputs": [
    {
     "data": {
      "image/png": "[encoded data removed]",
      "text/plain": [
       "<matplotlib.figure.Figure at 0x200fff45400>"
      ]
     },
     "metadata": {},
     "output_type": "display_data"
    }
   ],
   "source": [
    "msn.matrix(data[['Education','Credit_History','Self_Employed']])\n",
    "plt.show()"
   ]
  },
  {
   "cell_type": "code",
   "execution_count": 24,
   "metadata": {
    "collapsed": true
   },
   "outputs": [],
   "source": [
    "data['Education']=data['Education'].map({'Graduate':1,'Not Graduate':0})"
   ]
  },
  {
   "cell_type": "code",
   "execution_count": 25,
   "metadata": {
    "collapsed": true
   },
   "outputs": [],
   "source": [
    "data['Self_Employed']=data['Self_Employed'].map({'Yes':1,'No':0})"
   ]
  },
  {
   "cell_type": "code",
   "execution_count": 26,
   "metadata": {
    "collapsed": true
   },
   "outputs": [],
   "source": [
    "data['LoanAmount'].fillna(data['LoanAmount'].median(),inplace=True)"
   ]
  },
  {
   "cell_type": "code",
   "execution_count": 27,
   "metadata": {},
   "outputs": [
    {
     "data": {
      "text/plain": [
       "Male      775\n",
       "Female    182\n",
       "Name: Gender, dtype: int64"
      ]
     },
     "execution_count": 27,
     "metadata": {},
     "output_type": "execute_result"
    }
   ],
   "source": [
    "data['Gender'].value_counts()"
   ]
  },
  {
   "cell_type": "code",
   "execution_count": 28,
   "metadata": {
    "collapsed": true
   },
   "outputs": [],
   "source": [
    "data['Gender'].fillna('Male',inplace=True)"
   ]
  },
  {
   "cell_type": "code",
   "execution_count": 29,
   "metadata": {},
   "outputs": [
    {
     "data": {
      "text/plain": [
       "Yes    631\n",
       "No     347\n",
       "Name: Married, dtype: int64"
      ]
     },
     "execution_count": 29,
     "metadata": {},
     "output_type": "execute_result"
    }
   ],
   "source": [
    "data['Married'].value_counts()"
   ]
  },
  {
   "cell_type": "code",
   "execution_count": 30,
   "metadata": {
    "collapsed": true
   },
   "outputs": [],
   "source": [
    "data['Married']=data['Married'].map({'Yes':1,'No':0})"
   ]
  },
  {
   "cell_type": "code",
   "execution_count": 31,
   "metadata": {},
   "outputs": [
    {
     "data": {
      "text/html": [
       "<div>\n",
       "<style>\n",
       "    .dataframe thead tr:only-child th {\n",
       "        text-align: right;\n",
       "    }\n",
       "\n",
       "    .dataframe thead th {\n",
       "        text-align: left;\n",
       "    }\n",
       "\n",
       "    .dataframe tbody tr th {\n",
       "        vertical-align: top;\n",
       "    }\n",
       "</style>\n",
       "<table border=\"1\" class=\"dataframe\">\n",
       "  <thead>\n",
       "    <tr style=\"text-align: right;\">\n",
       "      <th></th>\n",
       "      <th>Credit_History</th>\n",
       "      <th>Education</th>\n",
       "      <th>LoanAmount</th>\n",
       "      <th>Loan_Amount_Term</th>\n",
       "      <th>Loan_Status</th>\n",
       "      <th>Married</th>\n",
       "      <th>Self_Employed</th>\n",
       "      <th>Income</th>\n",
       "    </tr>\n",
       "  </thead>\n",
       "  <tbody>\n",
       "    <tr>\n",
       "      <th>Credit_History</th>\n",
       "      <td>1.000000</td>\n",
       "      <td>0.066182</td>\n",
       "      <td>-0.007624</td>\n",
       "      <td>-0.020439</td>\n",
       "      <td>0.561678</td>\n",
       "      <td>0.021840</td>\n",
       "      <td>0.035852</td>\n",
       "      <td>0.039500</td>\n",
       "    </tr>\n",
       "    <tr>\n",
       "      <th>Education</th>\n",
       "      <td>0.066182</td>\n",
       "      <td>1.000000</td>\n",
       "      <td>0.163174</td>\n",
       "      <td>0.024396</td>\n",
       "      <td>0.085884</td>\n",
       "      <td>-0.027459</td>\n",
       "      <td>0.011429</td>\n",
       "      <td>0.215370</td>\n",
       "    </tr>\n",
       "    <tr>\n",
       "      <th>LoanAmount</th>\n",
       "      <td>-0.007624</td>\n",
       "      <td>0.163174</td>\n",
       "      <td>1.000000</td>\n",
       "      <td>0.054560</td>\n",
       "      <td>-0.032864</td>\n",
       "      <td>0.155429</td>\n",
       "      <td>0.113392</td>\n",
       "      <td>0.663366</td>\n",
       "    </tr>\n",
       "    <tr>\n",
       "      <th>Loan_Amount_Term</th>\n",
       "      <td>-0.020439</td>\n",
       "      <td>0.024396</td>\n",
       "      <td>0.054560</td>\n",
       "      <td>1.000000</td>\n",
       "      <td>-0.021268</td>\n",
       "      <td>-0.049497</td>\n",
       "      <td>-0.034812</td>\n",
       "      <td>-0.036563</td>\n",
       "    </tr>\n",
       "    <tr>\n",
       "      <th>Loan_Status</th>\n",
       "      <td>0.561678</td>\n",
       "      <td>0.085884</td>\n",
       "      <td>-0.032864</td>\n",
       "      <td>-0.021268</td>\n",
       "      <td>1.000000</td>\n",
       "      <td>0.089280</td>\n",
       "      <td>-0.002303</td>\n",
       "      <td>0.007240</td>\n",
       "    </tr>\n",
       "    <tr>\n",
       "      <th>Married</th>\n",
       "      <td>0.021840</td>\n",
       "      <td>-0.027459</td>\n",
       "      <td>0.155429</td>\n",
       "      <td>-0.049497</td>\n",
       "      <td>0.089280</td>\n",
       "      <td>1.000000</td>\n",
       "      <td>0.013733</td>\n",
       "      <td>0.151474</td>\n",
       "    </tr>\n",
       "    <tr>\n",
       "      <th>Self_Employed</th>\n",
       "      <td>0.035852</td>\n",
       "      <td>0.011429</td>\n",
       "      <td>0.113392</td>\n",
       "      <td>-0.034812</td>\n",
       "      <td>-0.002303</td>\n",
       "      <td>0.013733</td>\n",
       "      <td>1.000000</td>\n",
       "      <td>0.167063</td>\n",
       "    </tr>\n",
       "    <tr>\n",
       "      <th>Income</th>\n",
       "      <td>0.039500</td>\n",
       "      <td>0.215370</td>\n",
       "      <td>0.663366</td>\n",
       "      <td>-0.036563</td>\n",
       "      <td>0.007240</td>\n",
       "      <td>0.151474</td>\n",
       "      <td>0.167063</td>\n",
       "      <td>1.000000</td>\n",
       "    </tr>\n",
       "  </tbody>\n",
       "</table>\n",
       "</div>"
      ],
      "text/plain": [
       "                  Credit_History  Education  LoanAmount  Loan_Amount_Term  \\\n",
       "Credit_History          1.000000   0.066182   -0.007624         -0.020439   \n",
       "Education               0.066182   1.000000    0.163174          0.024396   \n",
       "LoanAmount             -0.007624   0.163174    1.000000          0.054560   \n",
       "Loan_Amount_Term       -0.020439   0.024396    0.054560          1.000000   \n",
       "Loan_Status             0.561678   0.085884   -0.032864         -0.021268   \n",
       "Married                 0.021840  -0.027459    0.155429         -0.049497   \n",
       "Self_Employed           0.035852   0.011429    0.113392         -0.034812   \n",
       "Income                  0.039500   0.215370    0.663366         -0.036563   \n",
       "\n",
       "                  Loan_Status   Married  Self_Employed    Income  \n",
       "Credit_History       0.561678  0.021840       0.035852  0.039500  \n",
       "Education            0.085884 -0.027459       0.011429  0.215370  \n",
       "LoanAmount          -0.032864  0.155429       0.113392  0.663366  \n",
       "Loan_Amount_Term    -0.021268 -0.049497      -0.034812 -0.036563  \n",
       "Loan_Status          1.000000  0.089280      -0.002303  0.007240  \n",
       "Married              0.089280  1.000000       0.013733  0.151474  \n",
       "Self_Employed       -0.002303  0.013733       1.000000  0.167063  \n",
       "Income               0.007240  0.151474       0.167063  1.000000  "
      ]
     },
     "execution_count": 31,
     "metadata": {},
     "output_type": "execute_result"
    }
   ],
   "source": [
    "data.corr()"
   ]
  },
  {
   "cell_type": "code",
   "execution_count": 32,
   "metadata": {},
   "outputs": [
    {
     "data": {
      "text/html": [
       "<div>\n",
       "<style>\n",
       "    .dataframe thead tr:only-child th {\n",
       "        text-align: right;\n",
       "    }\n",
       "\n",
       "    .dataframe thead th {\n",
       "        text-align: left;\n",
       "    }\n",
       "\n",
       "    .dataframe tbody tr th {\n",
       "        vertical-align: top;\n",
       "    }\n",
       "</style>\n",
       "<table border=\"1\" class=\"dataframe\">\n",
       "  <thead>\n",
       "    <tr style=\"text-align: right;\">\n",
       "      <th>Married</th>\n",
       "      <th>0.0</th>\n",
       "      <th>1.0</th>\n",
       "    </tr>\n",
       "    <tr>\n",
       "      <th>Dependents</th>\n",
       "      <th></th>\n",
       "      <th></th>\n",
       "    </tr>\n",
       "  </thead>\n",
       "  <tbody>\n",
       "    <tr>\n",
       "      <th>0</th>\n",
       "      <td>276</td>\n",
       "      <td>269</td>\n",
       "    </tr>\n",
       "    <tr>\n",
       "      <th>1</th>\n",
       "      <td>36</td>\n",
       "      <td>124</td>\n",
       "    </tr>\n",
       "    <tr>\n",
       "      <th>2</th>\n",
       "      <td>14</td>\n",
       "      <td>146</td>\n",
       "    </tr>\n",
       "    <tr>\n",
       "      <th>3+</th>\n",
       "      <td>12</td>\n",
       "      <td>79</td>\n",
       "    </tr>\n",
       "  </tbody>\n",
       "</table>\n",
       "</div>"
      ],
      "text/plain": [
       "Married     0.0  1.0\n",
       "Dependents          \n",
       "0           276  269\n",
       "1            36  124\n",
       "2            14  146\n",
       "3+           12   79"
      ]
     },
     "execution_count": 32,
     "metadata": {},
     "output_type": "execute_result"
    }
   ],
   "source": [
    "pd.crosstab(data.Dependents,data.Married)"
   ]
  },
  {
   "cell_type": "code",
   "execution_count": 33,
   "metadata": {
    "collapsed": true
   },
   "outputs": [],
   "source": [
    "data['Dependents']=data['Dependents'].map(lambda x: 0 if x=='0' else 1)"
   ]
  },
  {
   "cell_type": "code",
   "execution_count": 34,
   "metadata": {},
   "outputs": [
    {
     "name": "stdout",
     "output_type": "stream",
     "text": [
      "<class 'pandas.core.frame.DataFrame'>\n",
      "Int64Index: 981 entries, 0 to 366\n",
      "Data columns (total 13 columns):\n",
      "Credit_History      902 non-null float64\n",
      "Dependents          981 non-null int64\n",
      "Education           981 non-null int64\n",
      "Gender              981 non-null object\n",
      "LoanAmount          981 non-null float64\n",
      "Loan_Amount_Term    961 non-null float64\n",
      "Loan_ID             981 non-null object\n",
      "Loan_Status         614 non-null float64\n",
      "Married             978 non-null float64\n",
      "Property_Area       981 non-null object\n",
      "Self_Employed       926 non-null float64\n",
      "source              981 non-null object\n",
      "Income              981 non-null float64\n",
      "dtypes: float64(7), int64(2), object(4)\n",
      "memory usage: 107.3+ KB\n"
     ]
    }
   ],
   "source": [
    "data.info()"
   ]
  },
  {
   "cell_type": "code",
   "execution_count": 35,
   "metadata": {},
   "outputs": [
    {
     "data": {
      "text/plain": [
       "0    545\n",
       "1    436\n",
       "Name: Dependents, dtype: int64"
      ]
     },
     "execution_count": 35,
     "metadata": {},
     "output_type": "execute_result"
    }
   ],
   "source": [
    "data['Dependents'].value_counts()"
   ]
  },
  {
   "cell_type": "code",
   "execution_count": 36,
   "metadata": {},
   "outputs": [
    {
     "data": {
      "text/html": [
       "<div>\n",
       "<style>\n",
       "    .dataframe thead tr:only-child th {\n",
       "        text-align: right;\n",
       "    }\n",
       "\n",
       "    .dataframe thead th {\n",
       "        text-align: left;\n",
       "    }\n",
       "\n",
       "    .dataframe tbody tr th {\n",
       "        vertical-align: top;\n",
       "    }\n",
       "</style>\n",
       "<table border=\"1\" class=\"dataframe\">\n",
       "  <thead>\n",
       "    <tr style=\"text-align: right;\">\n",
       "      <th></th>\n",
       "      <th>Credit_History</th>\n",
       "      <th>Dependents</th>\n",
       "      <th>Education</th>\n",
       "      <th>LoanAmount</th>\n",
       "      <th>Loan_Amount_Term</th>\n",
       "      <th>Loan_Status</th>\n",
       "      <th>Married</th>\n",
       "      <th>Self_Employed</th>\n",
       "      <th>Income</th>\n",
       "    </tr>\n",
       "  </thead>\n",
       "  <tbody>\n",
       "    <tr>\n",
       "      <th>Credit_History</th>\n",
       "      <td>1.000000</td>\n",
       "      <td>-0.025326</td>\n",
       "      <td>0.066182</td>\n",
       "      <td>-0.007624</td>\n",
       "      <td>-0.020439</td>\n",
       "      <td>0.561678</td>\n",
       "      <td>0.021840</td>\n",
       "      <td>0.035852</td>\n",
       "      <td>0.039500</td>\n",
       "    </tr>\n",
       "    <tr>\n",
       "      <th>Dependents</th>\n",
       "      <td>-0.025326</td>\n",
       "      <td>1.000000</td>\n",
       "      <td>-0.054827</td>\n",
       "      <td>0.122810</td>\n",
       "      <td>-0.081528</td>\n",
       "      <td>-0.006250</td>\n",
       "      <td>0.355516</td>\n",
       "      <td>0.050040</td>\n",
       "      <td>0.106370</td>\n",
       "    </tr>\n",
       "    <tr>\n",
       "      <th>Education</th>\n",
       "      <td>0.066182</td>\n",
       "      <td>-0.054827</td>\n",
       "      <td>1.000000</td>\n",
       "      <td>0.163174</td>\n",
       "      <td>0.024396</td>\n",
       "      <td>0.085884</td>\n",
       "      <td>-0.027459</td>\n",
       "      <td>0.011429</td>\n",
       "      <td>0.215370</td>\n",
       "    </tr>\n",
       "    <tr>\n",
       "      <th>LoanAmount</th>\n",
       "      <td>-0.007624</td>\n",
       "      <td>0.122810</td>\n",
       "      <td>0.163174</td>\n",
       "      <td>1.000000</td>\n",
       "      <td>0.054560</td>\n",
       "      <td>-0.032864</td>\n",
       "      <td>0.155429</td>\n",
       "      <td>0.113392</td>\n",
       "      <td>0.663366</td>\n",
       "    </tr>\n",
       "    <tr>\n",
       "      <th>Loan_Amount_Term</th>\n",
       "      <td>-0.020439</td>\n",
       "      <td>-0.081528</td>\n",
       "      <td>0.024396</td>\n",
       "      <td>0.054560</td>\n",
       "      <td>1.000000</td>\n",
       "      <td>-0.021268</td>\n",
       "      <td>-0.049497</td>\n",
       "      <td>-0.034812</td>\n",
       "      <td>-0.036563</td>\n",
       "    </tr>\n",
       "    <tr>\n",
       "      <th>Loan_Status</th>\n",
       "      <td>0.561678</td>\n",
       "      <td>-0.006250</td>\n",
       "      <td>0.085884</td>\n",
       "      <td>-0.032864</td>\n",
       "      <td>-0.021268</td>\n",
       "      <td>1.000000</td>\n",
       "      <td>0.089280</td>\n",
       "      <td>-0.002303</td>\n",
       "      <td>0.007240</td>\n",
       "    </tr>\n",
       "    <tr>\n",
       "      <th>Married</th>\n",
       "      <td>0.021840</td>\n",
       "      <td>0.355516</td>\n",
       "      <td>-0.027459</td>\n",
       "      <td>0.155429</td>\n",
       "      <td>-0.049497</td>\n",
       "      <td>0.089280</td>\n",
       "      <td>1.000000</td>\n",
       "      <td>0.013733</td>\n",
       "      <td>0.151474</td>\n",
       "    </tr>\n",
       "    <tr>\n",
       "      <th>Self_Employed</th>\n",
       "      <td>0.035852</td>\n",
       "      <td>0.050040</td>\n",
       "      <td>0.011429</td>\n",
       "      <td>0.113392</td>\n",
       "      <td>-0.034812</td>\n",
       "      <td>-0.002303</td>\n",
       "      <td>0.013733</td>\n",
       "      <td>1.000000</td>\n",
       "      <td>0.167063</td>\n",
       "    </tr>\n",
       "    <tr>\n",
       "      <th>Income</th>\n",
       "      <td>0.039500</td>\n",
       "      <td>0.106370</td>\n",
       "      <td>0.215370</td>\n",
       "      <td>0.663366</td>\n",
       "      <td>-0.036563</td>\n",
       "      <td>0.007240</td>\n",
       "      <td>0.151474</td>\n",
       "      <td>0.167063</td>\n",
       "      <td>1.000000</td>\n",
       "    </tr>\n",
       "  </tbody>\n",
       "</table>\n",
       "</div>"
      ],
      "text/plain": [
       "                  Credit_History  Dependents  Education  LoanAmount  \\\n",
       "Credit_History          1.000000   -0.025326   0.066182   -0.007624   \n",
       "Dependents             -0.025326    1.000000  -0.054827    0.122810   \n",
       "Education               0.066182   -0.054827   1.000000    0.163174   \n",
       "LoanAmount             -0.007624    0.122810   0.163174    1.000000   \n",
       "Loan_Amount_Term       -0.020439   -0.081528   0.024396    0.054560   \n",
       "Loan_Status             0.561678   -0.006250   0.085884   -0.032864   \n",
       "Married                 0.021840    0.355516  -0.027459    0.155429   \n",
       "Self_Employed           0.035852    0.050040   0.011429    0.113392   \n",
       "Income                  0.039500    0.106370   0.215370    0.663366   \n",
       "\n",
       "                  Loan_Amount_Term  Loan_Status   Married  Self_Employed  \\\n",
       "Credit_History           -0.020439     0.561678  0.021840       0.035852   \n",
       "Dependents               -0.081528    -0.006250  0.355516       0.050040   \n",
       "Education                 0.024396     0.085884 -0.027459       0.011429   \n",
       "LoanAmount                0.054560    -0.032864  0.155429       0.113392   \n",
       "Loan_Amount_Term          1.000000    -0.021268 -0.049497      -0.034812   \n",
       "Loan_Status              -0.021268     1.000000  0.089280      -0.002303   \n",
       "Married                  -0.049497     0.089280  1.000000       0.013733   \n",
       "Self_Employed            -0.034812    -0.002303  0.013733       1.000000   \n",
       "Income                   -0.036563     0.007240  0.151474       0.167063   \n",
       "\n",
       "                    Income  \n",
       "Credit_History    0.039500  \n",
       "Dependents        0.106370  \n",
       "Education         0.215370  \n",
       "LoanAmount        0.663366  \n",
       "Loan_Amount_Term -0.036563  \n",
       "Loan_Status       0.007240  \n",
       "Married           0.151474  \n",
       "Self_Employed     0.167063  \n",
       "Income            1.000000  "
      ]
     },
     "execution_count": 36,
     "metadata": {},
     "output_type": "execute_result"
    }
   ],
   "source": [
    "data.corr()"
   ]
  },
  {
   "cell_type": "code",
   "execution_count": 37,
   "metadata": {},
   "outputs": [
    {
     "name": "stdout",
     "output_type": "stream",
     "text": [
      "<class 'pandas.core.frame.DataFrame'>\n",
      "Int64Index: 981 entries, 0 to 366\n",
      "Data columns (total 13 columns):\n",
      "Credit_History      902 non-null float64\n",
      "Dependents          981 non-null int64\n",
      "Education           981 non-null int64\n",
      "Gender              981 non-null object\n",
      "LoanAmount          981 non-null float64\n",
      "Loan_Amount_Term    961 non-null float64\n",
      "Loan_ID             981 non-null object\n",
      "Loan_Status         614 non-null float64\n",
      "Married             978 non-null float64\n",
      "Property_Area       981 non-null object\n",
      "Self_Employed       926 non-null float64\n",
      "source              981 non-null object\n",
      "Income              981 non-null float64\n",
      "dtypes: float64(7), int64(2), object(4)\n",
      "memory usage: 107.3+ KB\n"
     ]
    }
   ],
   "source": [
    "data.info()"
   ]
  },
  {
   "cell_type": "code",
   "execution_count": 38,
   "metadata": {},
   "outputs": [
    {
     "data": {
      "text/plain": [
       "1.0    754\n",
       "0.0    148\n",
       "Name: Credit_History, dtype: int64"
      ]
     },
     "execution_count": 38,
     "metadata": {},
     "output_type": "execute_result"
    }
   ],
   "source": [
    "data['Credit_History'].value_counts()"
   ]
  },
  {
   "cell_type": "code",
   "execution_count": 39,
   "metadata": {},
   "outputs": [
    {
     "data": {
      "image/png": "[encoded data removed]",
      "text/plain": [
       "<matplotlib.figure.Figure at 0x20084feb9e8>"
      ]
     },
     "metadata": {},
     "output_type": "display_data"
    }
   ],
   "source": [
    "msn.matrix(data[['Credit_History','Loan_Status']])\n",
    "plt.show()"
   ]
  },
  {
   "cell_type": "code",
   "execution_count": 40,
   "metadata": {},
   "outputs": [
    {
     "data": {
      "text/plain": [
       "0      1.0\n",
       "1      1.0\n",
       "2      1.0\n",
       "3      1.0\n",
       "4      1.0\n",
       "5      1.0\n",
       "6      1.0\n",
       "7      0.0\n",
       "8      1.0\n",
       "9      1.0\n",
       "10     1.0\n",
       "11     1.0\n",
       "12     1.0\n",
       "13     1.0\n",
       "14     1.0\n",
       "15     1.0\n",
       "16     NaN\n",
       "17     0.0\n",
       "18     1.0\n",
       "19     1.0\n",
       "20     0.0\n",
       "21     1.0\n",
       "22     0.0\n",
       "23     0.0\n",
       "24     NaN\n",
       "25     1.0\n",
       "26     1.0\n",
       "27     1.0\n",
       "28     1.0\n",
       "29     1.0\n",
       "      ... \n",
       "337    1.0\n",
       "338    1.0\n",
       "339    0.0\n",
       "340    1.0\n",
       "341    1.0\n",
       "342    1.0\n",
       "343    1.0\n",
       "344    1.0\n",
       "345    1.0\n",
       "346    0.0\n",
       "347    1.0\n",
       "348    1.0\n",
       "349    1.0\n",
       "350    1.0\n",
       "351    NaN\n",
       "352    1.0\n",
       "353    1.0\n",
       "354    0.0\n",
       "355    1.0\n",
       "356    1.0\n",
       "357    1.0\n",
       "358    NaN\n",
       "359    1.0\n",
       "360    NaN\n",
       "361    1.0\n",
       "362    1.0\n",
       "363    1.0\n",
       "364    NaN\n",
       "365    1.0\n",
       "366    1.0\n",
       "Name: Credit_History, Length: 981, dtype: float64"
      ]
     },
     "execution_count": 40,
     "metadata": {},
     "output_type": "execute_result"
    }
   ],
   "source": [
    "data['Credit_History']"
   ]
  },
  {
   "cell_type": "code",
   "execution_count": 41,
   "metadata": {
    "collapsed": true
   },
   "outputs": [],
   "source": [
    "data['Credit_History'].fillna(1,inplace= True)"
   ]
  },
  {
   "cell_type": "code",
   "execution_count": 42,
   "metadata": {},
   "outputs": [
    {
     "name": "stdout",
     "output_type": "stream",
     "text": [
      "<class 'pandas.core.frame.DataFrame'>\n",
      "Int64Index: 981 entries, 0 to 366\n",
      "Data columns (total 13 columns):\n",
      "Credit_History      981 non-null float64\n",
      "Dependents          981 non-null int64\n",
      "Education           981 non-null int64\n",
      "Gender              981 non-null object\n",
      "LoanAmount          981 non-null float64\n",
      "Loan_Amount_Term    961 non-null float64\n",
      "Loan_ID             981 non-null object\n",
      "Loan_Status         614 non-null float64\n",
      "Married             978 non-null float64\n",
      "Property_Area       981 non-null object\n",
      "Self_Employed       926 non-null float64\n",
      "source              981 non-null object\n",
      "Income              981 non-null float64\n",
      "dtypes: float64(7), int64(2), object(4)\n",
      "memory usage: 127.3+ KB\n"
     ]
    }
   ],
   "source": [
    "data.info()"
   ]
  },
  {
   "cell_type": "code",
   "execution_count": 43,
   "metadata": {
    "collapsed": true
   },
   "outputs": [],
   "source": [
    "data['Self_Employed'].fillna(0,inplace=True)"
   ]
  },
  {
   "cell_type": "code",
   "execution_count": 44,
   "metadata": {},
   "outputs": [
    {
     "data": {
      "text/plain": [
       "0.0    862\n",
       "1.0    119\n",
       "Name: Self_Employed, dtype: int64"
      ]
     },
     "execution_count": 44,
     "metadata": {},
     "output_type": "execute_result"
    }
   ],
   "source": [
    "data['Self_Employed'].value_counts()"
   ]
  },
  {
   "cell_type": "code",
   "execution_count": 45,
   "metadata": {},
   "outputs": [
    {
     "name": "stdout",
     "output_type": "stream",
     "text": [
      "<class 'pandas.core.frame.DataFrame'>\n",
      "Int64Index: 981 entries, 0 to 366\n",
      "Data columns (total 13 columns):\n",
      "Credit_History      981 non-null float64\n",
      "Dependents          981 non-null int64\n",
      "Education           981 non-null int64\n",
      "Gender              981 non-null object\n",
      "LoanAmount          981 non-null float64\n",
      "Loan_Amount_Term    961 non-null float64\n",
      "Loan_ID             981 non-null object\n",
      "Loan_Status         614 non-null float64\n",
      "Married             978 non-null float64\n",
      "Property_Area       981 non-null object\n",
      "Self_Employed       981 non-null float64\n",
      "source              981 non-null object\n",
      "Income              981 non-null float64\n",
      "dtypes: float64(7), int64(2), object(4)\n",
      "memory usage: 127.3+ KB\n"
     ]
    }
   ],
   "source": [
    "data.info()"
   ]
  },
  {
   "cell_type": "code",
   "execution_count": 46,
   "metadata": {
    "collapsed": true
   },
   "outputs": [],
   "source": [
    "data['Married'].fillna(1,inplace=True)"
   ]
  },
  {
   "cell_type": "code",
   "execution_count": 47,
   "metadata": {},
   "outputs": [
    {
     "name": "stdout",
     "output_type": "stream",
     "text": [
      "<class 'pandas.core.frame.DataFrame'>\n",
      "Int64Index: 981 entries, 0 to 366\n",
      "Data columns (total 13 columns):\n",
      "Credit_History      981 non-null float64\n",
      "Dependents          981 non-null int64\n",
      "Education           981 non-null int64\n",
      "Gender              981 non-null object\n",
      "LoanAmount          981 non-null float64\n",
      "Loan_Amount_Term    961 non-null float64\n",
      "Loan_ID             981 non-null object\n",
      "Loan_Status         614 non-null float64\n",
      "Married             981 non-null float64\n",
      "Property_Area       981 non-null object\n",
      "Self_Employed       981 non-null float64\n",
      "source              981 non-null object\n",
      "Income              981 non-null float64\n",
      "dtypes: float64(7), int64(2), object(4)\n",
      "memory usage: 127.3+ KB\n"
     ]
    }
   ],
   "source": [
    "data.info()"
   ]
  },
  {
   "cell_type": "code",
   "execution_count": 48,
   "metadata": {
    "collapsed": true
   },
   "outputs": [],
   "source": [
    "data.Loan_Amount_Term.fillna(360,inplace=True)"
   ]
  },
  {
   "cell_type": "code",
   "execution_count": 49,
   "metadata": {},
   "outputs": [
    {
     "name": "stdout",
     "output_type": "stream",
     "text": [
      "<class 'pandas.core.frame.DataFrame'>\n",
      "Int64Index: 981 entries, 0 to 366\n",
      "Data columns (total 13 columns):\n",
      "Credit_History      981 non-null float64\n",
      "Dependents          981 non-null int64\n",
      "Education           981 non-null int64\n",
      "Gender              981 non-null object\n",
      "LoanAmount          981 non-null float64\n",
      "Loan_Amount_Term    981 non-null float64\n",
      "Loan_ID             981 non-null object\n",
      "Loan_Status         614 non-null float64\n",
      "Married             981 non-null float64\n",
      "Property_Area       981 non-null object\n",
      "Self_Employed       981 non-null float64\n",
      "source              981 non-null object\n",
      "Income              981 non-null float64\n",
      "dtypes: float64(7), int64(2), object(4)\n",
      "memory usage: 127.3+ KB\n"
     ]
    }
   ],
   "source": [
    "data.info()"
   ]
  },
  {
   "cell_type": "code",
   "execution_count": 50,
   "metadata": {
    "collapsed": true
   },
   "outputs": [],
   "source": [
    "train=data[data['source']=='train']"
   ]
  },
  {
   "cell_type": "code",
   "execution_count": 51,
   "metadata": {},
   "outputs": [
    {
     "name": "stdout",
     "output_type": "stream",
     "text": [
      "<class 'pandas.core.frame.DataFrame'>\n",
      "Int64Index: 614 entries, 0 to 613\n",
      "Data columns (total 13 columns):\n",
      "Credit_History      614 non-null float64\n",
      "Dependents          614 non-null int64\n",
      "Education           614 non-null int64\n",
      "Gender              614 non-null object\n",
      "LoanAmount          614 non-null float64\n",
      "Loan_Amount_Term    614 non-null float64\n",
      "Loan_ID             614 non-null object\n",
      "Loan_Status         614 non-null float64\n",
      "Married             614 non-null float64\n",
      "Property_Area       614 non-null object\n",
      "Self_Employed       614 non-null float64\n",
      "source              614 non-null object\n",
      "Income              614 non-null float64\n",
      "dtypes: float64(7), int64(2), object(4)\n",
      "memory usage: 67.2+ KB\n"
     ]
    }
   ],
   "source": [
    "train.info()"
   ]
  },
  {
   "cell_type": "code",
   "execution_count": 52,
   "metadata": {
    "collapsed": true
   },
   "outputs": [],
   "source": [
    "test=data[data['source']=='test']"
   ]
  },
  {
   "cell_type": "code",
   "execution_count": 53,
   "metadata": {
    "collapsed": true
   },
   "outputs": [],
   "source": [
    "from sklearn.ensemble import RandomForestClassifier\n",
    "clf = RandomForestClassifier(max_depth=2, random_state=0)"
   ]
  },
  {
   "cell_type": "code",
   "execution_count": 70,
   "metadata": {},
   "outputs": [
    {
     "name": "stderr",
     "output_type": "stream",
     "text": [
      "C:\\Users\\user\\Anaconda3\\lib\\site-packages\\ipykernel_launcher.py:1: SettingWithCopyWarning: \n",
      "A value is trying to be set on a copy of a slice from a DataFrame\n",
      "\n",
      "See the caveats in the documentation: http://pandas.pydata.org/pandas-docs/stable/indexing.html#indexing-view-versus-copy\n",
      "  \"\"\"Entry point for launching an IPython kernel.\n"
     ]
    }
   ],
   "source": [
    "train.drop(['Loan_ID','source','Property_Area','Gender'],axis=1,inplace=True)"
   ]
  },
  {
   "cell_type": "code",
   "execution_count": 71,
   "metadata": {
    "collapsed": true
   },
   "outputs": [],
   "source": [
    "X=train.drop('Loan_Status',axis=1)"
   ]
  },
  {
   "cell_type": "code",
   "execution_count": 72,
   "metadata": {
    "collapsed": true
   },
   "outputs": [],
   "source": [
    "y=train['Loan_Status']\n"
   ]
  },
  {
   "cell_type": "code",
   "execution_count": 73,
   "metadata": {},
   "outputs": [
    {
     "name": "stdout",
     "output_type": "stream",
     "text": [
      "<class 'pandas.core.frame.DataFrame'>\n",
      "Int64Index: 614 entries, 0 to 613\n",
      "Data columns (total 9 columns):\n",
      "Credit_History      614 non-null float64\n",
      "Dependents          614 non-null int64\n",
      "Education           614 non-null int64\n",
      "LoanAmount          614 non-null float64\n",
      "Loan_Amount_Term    614 non-null float64\n",
      "Loan_Status         614 non-null float64\n",
      "Married             614 non-null float64\n",
      "Self_Employed       614 non-null float64\n",
      "Income              614 non-null float64\n",
      "dtypes: float64(7), int64(2)\n",
      "memory usage: 68.0 KB\n"
     ]
    }
   ],
   "source": [
    "train.info()"
   ]
  },
  {
   "cell_type": "code",
   "execution_count": 74,
   "metadata": {},
   "outputs": [
    {
     "data": {
      "text/plain": [
       "RandomForestClassifier(bootstrap=True, class_weight=None, criterion='gini',\n",
       "            max_depth=2, max_features='auto', max_leaf_nodes=None,\n",
       "            min_impurity_decrease=0.0, min_impurity_split=None,\n",
       "            min_samples_leaf=1, min_samples_split=2,\n",
       "            min_weight_fraction_leaf=0.0, n_estimators=10, n_jobs=1,\n",
       "            oob_score=False, random_state=0, verbose=0, warm_start=False)"
      ]
     },
     "execution_count": 74,
     "metadata": {},
     "output_type": "execute_result"
    }
   ],
   "source": [
    "clf.fit(X,y)"
   ]
  },
  {
   "cell_type": "code",
   "execution_count": 75,
   "metadata": {},
   "outputs": [
    {
     "data": {
      "text/plain": [
       "0.80944625407166126"
      ]
     },
     "execution_count": 75,
     "metadata": {},
     "output_type": "execute_result"
    }
   ],
   "source": [
    "clf.score(X,y)"
   ]
  },
  {
   "cell_type": "code",
   "execution_count": null,
   "metadata": {
    "collapsed": true
   },
   "outputs": [],
   "source": []
  }
 ],
 "metadata": {
  "kernelspec": {
   "display_name": "Python 3",
   "language": "python",
   "name": "python3"
  },
  "language_info": {
   "codemirror_mode": {
    "name": "ipython",
    "version": 3
   },
   "file_extension": ".py",
   "mimetype": "text/x-python",
   "name": "python",
   "nbconvert_exporter": "python",
   "pygments_lexer": "ipython3",
   "version": "3.6.3"
  }
 },
 "nbformat": 4,
 "nbformat_minor": 2
}
